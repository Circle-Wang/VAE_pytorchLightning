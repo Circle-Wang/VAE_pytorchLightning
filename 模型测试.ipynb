{
 "cells": [
  {
   "cell_type": "markdown",
   "metadata": {},
   "source": [
    "### 配置文件验证"
   ]
  },
  {
   "cell_type": "code",
   "execution_count": null,
   "metadata": {},
   "outputs": [],
   "source": [
    "from omegaconf import OmegaConf\n",
    "hparams = OmegaConf.load('config.yaml') # 读取配置文件"
   ]
  },
  {
   "cell_type": "code",
   "execution_count": null,
   "metadata": {},
   "outputs": [],
   "source": [
    "from modelModule.model2 import VAE2\n",
    "import torch"
   ]
  },
  {
   "cell_type": "code",
   "execution_count": null,
   "metadata": {},
   "outputs": [],
   "source": [
    "model = VAE2()\n",
    "a = torch.randn((10,57))\n",
    "b = torch.randn((10,57))\n",
    "model(a,b)"
   ]
  },
  {
   "cell_type": "markdown",
   "metadata": {},
   "source": [
    "### dataloader验证"
   ]
  },
  {
   "cell_type": "code",
   "execution_count": null,
   "metadata": {},
   "outputs": [],
   "source": [
    "import torch\n",
    "from dataModule.dataset1 import FlatDataset\n",
    "from torch.utils.data import DataLoader"
   ]
  },
  {
   "cell_type": "code",
   "execution_count": null,
   "metadata": {},
   "outputs": [],
   "source": [
    "dataset = FlatDataset('Letter_train.csv')\n",
    "print(dataset.Max_Val)\n",
    "print(dataset.Min_Val)"
   ]
  },
  {
   "cell_type": "code",
   "execution_count": null,
   "metadata": {},
   "outputs": [],
   "source": [
    "dataset = FlatDataset('Letter_train.csv')\n",
    "train_dataloader = DataLoader(dataset, \n",
    "                             batch_size=10, \n",
    "                             collate_fn=dataset.collater, \n",
    "                             shuffle=True,\n",
    "                             num_workers=2)\n",
    "batch = None\n",
    "for i in train_dataloader:\n",
    "    batch = i\n",
    "    break"
   ]
  },
  {
   "cell_type": "code",
   "execution_count": null,
   "metadata": {},
   "outputs": [],
   "source": [
    "batch.keys()"
   ]
  },
  {
   "cell_type": "markdown",
   "metadata": {},
   "source": [
    "### 模型精度测定"
   ]
  },
  {
   "cell_type": "code",
   "execution_count": 1,
   "metadata": {},
   "outputs": [],
   "source": [
    "from dataModule.dataset1 import FlatDataset\n",
    "from modelModule.model1 import VAE\n",
    "# from modelModule.model2 import VAE2\n",
    "from torch.utils.data import DataLoader\n",
    "from utils import restore_data, result_show, get_missing\n",
    "import torch\n",
    "import numpy as np"
   ]
  },
  {
   "cell_type": "code",
   "execution_count": 2,
   "metadata": {},
   "outputs": [
    {
     "name": "stdout",
     "output_type": "stream",
     "text": [
      "载入成功\n"
     ]
    }
   ],
   "source": [
    "## 模型参数载入\n",
    "model = VAE(dim=16, nhead=4)\n",
    "checkpoint_path = r'模型参数保存\\Letter_lr_0_0001_lr_scheduler_CosineAnnealingLR\\version_2\\checkpoints\\epoch=10-step=693.ckpt'    \n",
    "checkpoint = torch.load(checkpoint_path)\n",
    "model.load_state_dict({k.replace('model.',''):v for k,v in checkpoint['state_dict'].items()}) \n",
    "model.eval()\n",
    "## 载入训练集的均值(最小)方差(最大)\n",
    "train_dataset = FlatDataset(r'C:\\王源权\\西南财经大学\\硕士毕业论文\\模型代码\\VAE_pytorchLightning\\Letter_train.csv', data_norm='mean_norm')\n",
    "model.get_global_min_max(global_max=train_dataset.Max_Val, global_min=train_dataset.Min_Val)\n",
    "print('载入成功')"
   ]
  },
  {
   "cell_type": "code",
   "execution_count": null,
   "metadata": {},
   "outputs": [],
   "source": [
    "# test_dataset = FlatDataset('Letter_test.csv', data_norm='mean_norm') # minmax_norm\n",
    "# index = 102\n",
    "# src_data, M_matrix, miss_data = test_dataset[index]['src_data'].reshape(1,-1), test_dataset[index]['global_miss_matrix'].reshape(1,-1), test_dataset[index]['global_miss_data'].reshape(1,-1)\n",
    "# src_data = test_dataset[index]['src_data'].reshape(1,-1)\n",
    "# normal_data = test_dataset[index]['global_normal_data'].reshape(1,-1)\n",
    "# miss_data, M_matrix = get_missing(normal_data, 0.3) # 产生掩码数据，并采用随机数填补\n",
    "\n",
    "# imputed_data, _, _ = model(torch.from_numpy(miss_data).float(), torch.from_numpy(M_matrix).float()) \n",
    "# imputed_data = M_matrix * miss_data + (1-M_matrix) * imputed_data.data.numpy() # 得到最终插补结果,数据由[0,1]范围内\n",
    "# res_imputed_data = np.around(restore_data(imputed_data, test_dataset.Max_Val, test_dataset.Min_Val))\n",
    "# result_show(src_data, res_imputed_data, M_matrix)"
   ]
  },
  {
   "cell_type": "markdown",
   "metadata": {},
   "source": [
    "#### 另一种验证方式"
   ]
  },
  {
   "cell_type": "code",
   "execution_count": 5,
   "metadata": {},
   "outputs": [],
   "source": [
    "test_dataset = FlatDataset('Letter_test.csv', data_norm='minmax_norm') # minmax_norm\n",
    "src_data = np.stack([test_dataset[index]['src_data'] for index in range(10)], axis=0)\n",
    "normal_data = np.stack([test_dataset[index]['global_normal_data'] for index in range(10)], axis=0)\n",
    "_, miss_matrix = get_missing(src_data, 0.3) # 得到缺失矩阵\n",
    "input = src_data.copy()\n",
    "input[miss_matrix == 0] = np.nan\n",
    "imputed_data, output = model.inference(input, miss_matrix)\n",
    "# imputed_data = M_matrix * miss_data + (1-M_matrix) * imputed_data.data.numpy()\n",
    "res_imputed_data = np.around(restore_data(imputed_data, test_dataset.Max_Val, test_dataset.Min_Val))"
   ]
  },
  {
   "cell_type": "code",
   "execution_count": 7,
   "metadata": {},
   "outputs": [
    {
     "data": {
      "text/plain": [
       "tensor([[0.2658, 0.4721, 0.3511, 0.3595, 0.2420, 0.4375, 0.4803, 0.2847, 0.3454,\n",
       "         0.5506, 0.4162, 0.5300, 0.1948, 0.5613, 0.2584, 0.5404],\n",
       "        [0.2699, 0.4680, 0.3490, 0.3588, 0.2405, 0.4363, 0.4807, 0.2866, 0.3437,\n",
       "         0.5478, 0.4170, 0.5286, 0.1941, 0.5614, 0.2568, 0.5398],\n",
       "        [0.2713, 0.4698, 0.3494, 0.3583, 0.2425, 0.4361, 0.4808, 0.2858, 0.3464,\n",
       "         0.5453, 0.4163, 0.5328, 0.1933, 0.5624, 0.2573, 0.5395],\n",
       "        [0.2696, 0.4703, 0.3512, 0.3578, 0.2405, 0.4353, 0.4794, 0.2868, 0.3458,\n",
       "         0.5495, 0.4175, 0.5320, 0.1937, 0.5614, 0.2562, 0.5405],\n",
       "        [0.2704, 0.4638, 0.3483, 0.3575, 0.2391, 0.4337, 0.4803, 0.2863, 0.3436,\n",
       "         0.5491, 0.4165, 0.5304, 0.1948, 0.5617, 0.2567, 0.5375],\n",
       "        [0.2696, 0.4689, 0.3507, 0.3580, 0.2422, 0.4359, 0.4783, 0.2864, 0.3433,\n",
       "         0.5490, 0.4175, 0.5283, 0.1952, 0.5622, 0.2567, 0.5382],\n",
       "        [0.2680, 0.4695, 0.3508, 0.3598, 0.2416, 0.4374, 0.4794, 0.2846, 0.3447,\n",
       "         0.5509, 0.4165, 0.5319, 0.1941, 0.5612, 0.2558, 0.5371],\n",
       "        [0.2683, 0.4696, 0.3507, 0.3570, 0.2433, 0.4376, 0.4808, 0.2863, 0.3429,\n",
       "         0.5489, 0.4171, 0.5333, 0.1924, 0.5611, 0.2567, 0.5377],\n",
       "        [0.2707, 0.4688, 0.3478, 0.3575, 0.2388, 0.4330, 0.4790, 0.2870, 0.3425,\n",
       "         0.5499, 0.4165, 0.5293, 0.1946, 0.5617, 0.2551, 0.5389],\n",
       "        [0.2714, 0.4693, 0.3508, 0.3567, 0.2434, 0.4327, 0.4768, 0.2851, 0.3459,\n",
       "         0.5511, 0.4167, 0.5291, 0.1953, 0.5618, 0.2580, 0.5381]],\n",
       "       grad_fn=<SqueezeBackward1>)"
      ]
     },
     "execution_count": 7,
     "metadata": {},
     "output_type": "execute_result"
    }
   ],
   "source": [
    "output"
   ]
  },
  {
   "cell_type": "code",
   "execution_count": 6,
   "metadata": {},
   "outputs": [
    {
     "data": {
      "text/plain": [
       "array([[0.2142857 , 0.19999999, 0.28571427, 0.13333332, 0.06666666,\n",
       "        0.26666665, 0.73333328, 0.13333332, 0.46666664, 0.73333328,\n",
       "        0.66666662, 0.28571427, 0.06666666, 0.71428566, 0.14285713,\n",
       "        0.28571427],\n",
       "       [0.2142857 , 0.33333331, 0.4285714 , 0.26666665, 0.26666665,\n",
       "        0.59999996, 0.39999997, 0.19999999, 0.39999997, 0.66666662,\n",
       "        0.33333331, 0.4285714 , 0.13333332, 0.49999996, 0.35714283,\n",
       "        0.57142853],\n",
       "       [0.28571427, 0.5333333 , 0.28571427, 0.33333331, 0.13333332,\n",
       "        0.19999999, 0.5333333 , 0.5333333 , 0.13333332, 0.46666664,\n",
       "        0.33333331, 0.71428566, 0.26666665, 0.49999996, 0.2142857 ,\n",
       "        0.6428571 ],\n",
       "       [0.35714283, 0.66666662, 0.49999996, 0.46666664, 0.26666665,\n",
       "        0.26666665, 0.66666662, 0.13333332, 0.5333333 , 0.73333328,\n",
       "        0.79999995, 0.57142853, 0.19999999, 0.57142853, 0.14285713,\n",
       "        0.35714283],\n",
       "       [0.28571427, 0.46666664, 0.28571427, 0.5333333 , 0.33333331,\n",
       "        0.5333333 , 0.46666664, 0.39999997, 0.26666665, 0.5333333 ,\n",
       "        0.46666664, 0.57142853, 0.19999999, 0.49999996, 0.4285714 ,\n",
       "        0.49999996],\n",
       "       [0.49999996, 0.66666662, 0.71428566, 0.5333333 , 0.33333331,\n",
       "        0.46666664, 0.5333333 , 0.19999999, 0.33333331, 0.66666662,\n",
       "        0.39999997, 0.4285714 , 0.46666664, 0.49999996, 0.07142857,\n",
       "        0.49999996],\n",
       "       [0.4285714 , 0.66666662, 0.4285714 , 0.46666664, 0.46666664,\n",
       "        0.26666665, 0.66666662, 0.13333332, 0.19999999, 0.59999996,\n",
       "        0.5333333 , 0.49999996, 0.46666664, 0.71428566, 0.14285713,\n",
       "        0.4285714 ],\n",
       "       [0.4285714 , 0.73333328, 0.4285714 , 0.5333333 , 0.46666664,\n",
       "        0.33333331, 0.66666662, 0.5333333 , 0.19999999, 0.46666664,\n",
       "        0.26666665, 0.49999996, 0.13333332, 0.4285714 , 0.35714283,\n",
       "        0.71428566],\n",
       "       [0.35714283, 0.59999996, 0.57142853, 0.5333333 , 0.59999996,\n",
       "        0.46666664, 0.5333333 , 0.33333331, 0.26666665, 0.5333333 ,\n",
       "        0.39999997, 0.49999996, 0.46666664, 0.57142853, 0.57142853,\n",
       "        0.49999996],\n",
       "       [0.28571427, 0.33333331, 0.35714283, 0.5333333 , 0.13333332,\n",
       "        0.46666664, 0.46666664, 0.26666665, 0.93333327, 0.59999996,\n",
       "        0.39999997, 0.49999996, 0.        , 0.49999996, 0.57142853,\n",
       "        0.49999996]])"
      ]
     },
     "execution_count": 6,
     "metadata": {},
     "output_type": "execute_result"
    }
   ],
   "source": [
    "normal_data"
   ]
  },
  {
   "cell_type": "code",
   "execution_count": null,
   "metadata": {},
   "outputs": [],
   "source": [
    "# batch测试\n",
    "# src_data, miss_data, M_matrix = batch['src_data'], batch['miss_data'], batch['miss_matrix']\n",
    "# normal_data = batch['normal_data']\n",
    "# imputed_data, _, _ = model(miss_data, M_matrix)\n",
    "# imputed_data = M_matrix * miss_data + (1-M_matrix) * imputed_data.data.numpy()\n",
    "# res_imputed_data = np.around(restore_data(imputed_data, dataset.Max_Val, dataset.Min_Val))"
   ]
  },
  {
   "cell_type": "code",
   "execution_count": null,
   "metadata": {},
   "outputs": [],
   "source": []
  }
 ],
 "metadata": {
  "interpreter": {
   "hash": "0aea4d3bd9f517439094973d7e036bbe588c23e6e36cf8d45d53b47a8a90b2b4"
  },
  "kernelspec": {
   "display_name": "Python 3.8.6 64-bit",
   "language": "python",
   "name": "python3"
  },
  "language_info": {
   "codemirror_mode": {
    "name": "ipython",
    "version": 3
   },
   "file_extension": ".py",
   "mimetype": "text/x-python",
   "name": "python",
   "nbconvert_exporter": "python",
   "pygments_lexer": "ipython3",
   "version": "3.8.6"
  },
  "orig_nbformat": 4
 },
 "nbformat": 4,
 "nbformat_minor": 2
}

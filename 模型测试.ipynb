{
 "cells": [
  {
   "cell_type": "markdown",
   "metadata": {},
   "source": [
    "### 配置文件验证"
   ]
  },
  {
   "cell_type": "code",
   "execution_count": null,
   "metadata": {},
   "outputs": [],
   "source": [
    "from omegaconf import OmegaConf\n",
    "hparams = OmegaConf.load('config.yaml') # 读取配置文件"
   ]
  },
  {
   "cell_type": "code",
   "execution_count": null,
   "metadata": {},
   "outputs": [],
   "source": [
    "hparams.pro_type_file is None"
   ]
  },
  {
   "cell_type": "code",
   "execution_count": null,
   "metadata": {},
   "outputs": [],
   "source": [
    "from modelModule.model5 import VAE5\n",
    "import torch\n",
    "model = VAE5(dim=16, pro_types=pro_types)"
   ]
  },
  {
   "cell_type": "markdown",
   "metadata": {},
   "source": [
    "### 得到数据集相关属性"
   ]
  },
  {
   "cell_type": "code",
   "execution_count": 4,
   "metadata": {},
   "outputs": [],
   "source": [
    "import pickle\n",
    "import pandas as pd\n",
    "import numpy as np\n",
    "import torch\n",
    "# data_pd = pd.read_csv('Letter_train.csv')\n",
    "# col_names = list(data_pd)\n",
    "# df[col_name].value_counts()\n",
    "# pro_types = [('discrete',16) for _ in col_names]\n",
    "# with open('Letter_pro_type.pkl', 'wb') as f:\n",
    "#     pickle.dump(pro_types, f)"
   ]
  },
  {
   "cell_type": "markdown",
   "metadata": {},
   "source": [
    "### dataloader验证"
   ]
  },
  {
   "cell_type": "code",
   "execution_count": null,
   "metadata": {},
   "outputs": [],
   "source": [
    "import torch\n",
    "from dataModule.dataset1 import FlatDataset\n",
    "from torch.utils.data import DataLoader"
   ]
  },
  {
   "cell_type": "code",
   "execution_count": null,
   "metadata": {},
   "outputs": [],
   "source": [
    "dataset = FlatDataset('Letter_train.csv', \n",
    "                    pro_type_file='Letter_pro_type.pkl')\n"
   ]
  },
  {
   "cell_type": "code",
   "execution_count": null,
   "metadata": {},
   "outputs": [],
   "source": [
    "train_dataloader = DataLoader(dataset, \n",
    "                             batch_size=10, \n",
    "                             collate_fn=dataset.collater, \n",
    "                             shuffle=True,\n",
    "                             num_workers=2)\n",
    "batch = None\n",
    "for i in train_dataloader:\n",
    "    batch = i\n",
    "    break"
   ]
  },
  {
   "cell_type": "code",
   "execution_count": null,
   "metadata": {},
   "outputs": [],
   "source": [
    "batch['normal_data']"
   ]
  },
  {
   "cell_type": "code",
   "execution_count": null,
   "metadata": {},
   "outputs": [],
   "source": [
    "batch[\"miss_data\"].long()"
   ]
  },
  {
   "cell_type": "code",
   "execution_count": null,
   "metadata": {},
   "outputs": [],
   "source": [
    "batch[\"src_data\"]"
   ]
  },
  {
   "cell_type": "code",
   "execution_count": null,
   "metadata": {},
   "outputs": [],
   "source": [
    "test_data = imputed_data * global_max + global_min # 广播效应"
   ]
  },
  {
   "cell_type": "code",
   "execution_count": null,
   "metadata": {},
   "outputs": [],
   "source": [
    "a = torch.randint(0,10, size=(5,4,3)).float()\n",
    "print(a)\n",
    "f = torch.nn.Softmax(dim=1)\n",
    "f(a)\n"
   ]
  },
  {
   "cell_type": "code",
   "execution_count": null,
   "metadata": {},
   "outputs": [],
   "source": [
    "a = torch.randint(0,10,size=(5,12,4)).float()\n",
    "print(a)\n",
    "model = torch.nn.Linear(4,10)\n",
    "model(a[:,1,:]).shape"
   ]
  },
  {
   "cell_type": "code",
   "execution_count": null,
   "metadata": {},
   "outputs": [],
   "source": [
    "a[:,0].reshape(-1,1)"
   ]
  },
  {
   "cell_type": "code",
   "execution_count": null,
   "metadata": {},
   "outputs": [],
   "source": [
    "model(a[:,0].reshape(-1,1,1)).permute(0, 2, 1).shape"
   ]
  },
  {
   "cell_type": "code",
   "execution_count": null,
   "metadata": {},
   "outputs": [],
   "source": [
    "isinstance(model, torch.nn.Embedding)"
   ]
  },
  {
   "cell_type": "code",
   "execution_count": null,
   "metadata": {},
   "outputs": [],
   "source": [
    "a = torch.randint(0,2,size=(5, 3))\n",
    "b = torch.nn.Parameter(torch.randn(1, 4))\n",
    "print(b)\n",
    "print(a)\n",
    "\n",
    "miss_matric = a.unsqueeze (-1).expand(5,3,4)\n",
    "print(miss_matric)\n",
    "miss_matric*b"
   ]
  },
  {
   "cell_type": "code",
   "execution_count": null,
   "metadata": {},
   "outputs": [],
   "source": [
    "a = torch.randint(0,10,size=(5,3)).float()\n",
    "model = torch.nn.Conv1d(in_channels=1, out_channels=8, kernel_size=1, stride=1)\n",
    "print(a)\n",
    "embedding_out = torch.tensor([])\n",
    "embedding_out = torch.cat((embedding_out, model(a[:,0].reshape(-1,1,1)).permute(0, 2, 1)), dim = 1)\n",
    "embedding_out = torch.cat((embedding_out, model(a[:,1].reshape(-1,1,1)).permute(0, 2, 1)), dim = 1)\n",
    "print(embedding_out.shape)\n",
    "embedding_out"
   ]
  },
  {
   "cell_type": "code",
   "execution_count": null,
   "metadata": {},
   "outputs": [],
   "source": [
    "b.shape"
   ]
  },
  {
   "cell_type": "markdown",
   "metadata": {},
   "source": [
    "### 模型5精度测定"
   ]
  },
  {
   "cell_type": "code",
   "execution_count": 1,
   "metadata": {},
   "outputs": [],
   "source": [
    "from dataModule.dataset1 import FlatDataset\n",
    "# from modelModule.model1 import VAE\n",
    "# from modelModule.model2 import VAE2\n",
    "# from modelModule.model4 import VAE4\n",
    "from modelModule.model5 import VAE5\n",
    "from torch.utils.data import DataLoader\n",
    "from utils import result_show, get_missing\n",
    "import torch\n",
    "import numpy as np\n",
    "import pickle"
   ]
  },
  {
   "cell_type": "code",
   "execution_count": 2,
   "metadata": {},
   "outputs": [
    {
     "name": "stdout",
     "output_type": "stream",
     "text": [
      "载入成功\n"
     ]
    }
   ],
   "source": [
    "## 模型参数载入\n",
    "model = VAE5(dim=23, pro_types=pickle.load(open('Credit_Card_pro_type.pkl', 'rb'))) # nhead=3\n",
    "checkpoint_path = r'模型参数保存/Credit_Card_model5_norm_way_minmax_norm_/version_1/checkpoints/epoch=31-step=3008.ckpt'    \n",
    "data_norm = 'minmax_norm'  # 数据集采用正则化方式minmax_norm,mean_norm\n",
    "train_csv = r'Credit_Card_model_train.csv'\n",
    "test_csv = r'Credit_Card_model_test.csv'\n",
    "\n",
    "checkpoint = torch.load(checkpoint_path)\n",
    "model.load_state_dict({k.replace('model.',''):v for k,v in checkpoint['state_dict'].items()}) \n",
    "model.eval()\n",
    "## 载入训练集的均值(最小)方差(最大)\n",
    "train_dataset = FlatDataset(train_csv, data_norm=data_norm, pro_type_file='Credit_Card_pro_type.pkl')\n",
    "model.get_global_min_max(dataset=train_dataset)\n",
    "print('载入成功')"
   ]
  },
  {
   "cell_type": "code",
   "execution_count": 3,
   "metadata": {},
   "outputs": [],
   "source": [
    "test_dataset = FlatDataset(test_csv, data_norm=data_norm, pro_type_file='Credit_Card_pro_type.pkl')\n",
    "data_size = 10\n",
    "src_data = np.stack([test_dataset[index]['src_data'] for index in range(data_size)], axis=0)\n",
    "normal_data = np.stack([test_dataset[index]['global_normal_data'] for index in range(data_size)], axis=0)\n",
    "portion_normal_data = np.stack([test_dataset[index]['portion_normal_data'] for index in range(data_size)], axis=0)\n",
    "_, miss_matrix = get_missing(src_data, 0.3) # 得到缺失矩阵\n",
    "input = portion_normal_data.copy()\n",
    "input[miss_matrix == 0] = np.nan"
   ]
  },
  {
   "cell_type": "code",
   "execution_count": 4,
   "metadata": {},
   "outputs": [],
   "source": [
    "imputed_data, output = model.inference(input, miss_matrix) # inference输出的结果已经重构后的结果\n",
    "# imputed_data = M_matrix * miss_data + (1-M_matrix) * imputed_data.data.numpy()"
   ]
  },
  {
   "cell_type": "code",
   "execution_count": 8,
   "metadata": {},
   "outputs": [
    {
     "name": "stdout",
     "output_type": "stream",
     "text": [
      "[0.01       0.         0.16666664 0.66666644 0.16216216 0.29999997\n",
      " 0.39999996 0.39999996 0.4444444  0.37499995 0.3333333  0.02970728\n",
      " 0.04432526 0.09421625 0.09378792 0.07159629 0.06854265 0.\n",
      " 0.00220592 0.         0.00302516 0.         0.00121816]\n",
      "tensor([0.1920, 0.6064, 0.3141, 0.5024, 0.2250, 0.1935, 0.1890, 0.1880, 0.1980,\n",
      "        0.1610, 0.1953, 0.3073, 0.1283, 0.1143, 0.2926, 0.1474, 0.5433, 0.0135,\n",
      "        0.0150, 0.0194, 0.0127, 0.0259, 0.0180], grad_fn=<SelectBackward>)\n"
     ]
    }
   ],
   "source": [
    "print(normal_data[0])\n",
    "print(output[0])\n"
   ]
  },
  {
   "cell_type": "code",
   "execution_count": null,
   "metadata": {},
   "outputs": [],
   "source": [
    "imputed_data[1]"
   ]
  },
  {
   "cell_type": "code",
   "execution_count": null,
   "metadata": {},
   "outputs": [],
   "source": [
    "result_show(src_data, imputed_data, miss_matrix)"
   ]
  },
  {
   "cell_type": "code",
   "execution_count": null,
   "metadata": {},
   "outputs": [],
   "source": [
    "imputed_data"
   ]
  },
  {
   "cell_type": "code",
   "execution_count": null,
   "metadata": {},
   "outputs": [],
   "source": [
    "imputed_data.shape"
   ]
  },
  {
   "cell_type": "code",
   "execution_count": null,
   "metadata": {},
   "outputs": [],
   "source": [
    "# test_dataset = FlatDataset('Letter_test.csv', data_norm='mean_norm') # minmax_norm\n",
    "# index = 102\n",
    "# src_data, M_matrix, miss_data = test_dataset[index]['src_data'].reshape(1,-1), test_dataset[index]['global_miss_matrix'].reshape(1,-1), test_dataset[index]['global_miss_data'].reshape(1,-1)\n",
    "# src_data = test_dataset[index]['src_data'].reshape(1,-1)\n",
    "# normal_data = test_dataset[index]['global_normal_data'].reshape(1,-1)\n",
    "# miss_data, M_matrix = get_missing(normal_data, 0.3) # 产生掩码数据，并采用随机数填补\n",
    "\n",
    "# imputed_data, _, _ = model(torch.from_numpy(miss_data).float(), torch.from_numpy(M_matrix).float()) \n",
    "# imputed_data = M_matrix * miss_data + (1-M_matrix) * imputed_data.data.numpy() # 得到最终插补结果,数据由[0,1]范围内\n",
    "# res_imputed_data = np.around(restore_data(imputed_data, test_dataset.Max_Val, test_dataset.Min_Val))\n",
    "# result_show(src_data, res_imputed_data, M_matrix)"
   ]
  },
  {
   "cell_type": "code",
   "execution_count": null,
   "metadata": {},
   "outputs": [],
   "source": [
    "# batch测试\n",
    "# src_data, miss_data, M_matrix = batch['src_data'], batch['miss_data'], batch['miss_matrix']\n",
    "# normal_data = batch['normal_data']\n",
    "# imputed_data, _, _ = model(miss_data, M_matrix)\n",
    "# imputed_data = M_matrix * miss_data + (1-M_matrix) * imputed_data.data.numpy()\n",
    "# res_imputed_data = np.around(restore_data(imputed_data, dataset.Max_Val, dataset.Min_Val))"
   ]
  },
  {
   "cell_type": "code",
   "execution_count": null,
   "metadata": {},
   "outputs": [],
   "source": []
  }
 ],
 "metadata": {
  "kernelspec": {
   "display_name": "Python 3.8.6 64-bit",
   "language": "python",
   "name": "python3"
  },
  "language_info": {
   "codemirror_mode": {
    "name": "ipython",
    "version": 3
   },
   "file_extension": ".py",
   "mimetype": "text/x-python",
   "name": "python",
   "nbconvert_exporter": "python",
   "pygments_lexer": "ipython3",
   "version": "3.8.6"
  },
  "orig_nbformat": 4,
  "vscode": {
   "interpreter": {
    "hash": "0aea4d3bd9f517439094973d7e036bbe588c23e6e36cf8d45d53b47a8a90b2b4"
   }
  }
 },
 "nbformat": 4,
 "nbformat_minor": 2
}

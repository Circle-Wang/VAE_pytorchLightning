{
 "cells": [
  {
   "cell_type": "markdown",
   "metadata": {},
   "source": [
    "### 配置文件验证"
   ]
  },
  {
   "cell_type": "code",
   "execution_count": null,
   "metadata": {},
   "outputs": [],
   "source": [
    "from omegaconf import OmegaConf\n",
    "hparams = OmegaConf.load('config.yaml') # 读取配置文件"
   ]
  },
  {
   "cell_type": "markdown",
   "metadata": {},
   "source": [
    "### dataloader验证"
   ]
  },
  {
   "cell_type": "code",
   "execution_count": 1,
   "metadata": {},
   "outputs": [],
   "source": [
    "import torch\n",
    "from dataModule.dataset1 import FlatDataset\n",
    "from torch.utils.data import DataLoader"
   ]
  },
  {
   "cell_type": "code",
   "execution_count": 2,
   "metadata": {},
   "outputs": [],
   "source": [
    "dataset = FlatDataset('Spam_test.csv')\n",
    "train_dataloader = DataLoader(dataset, \n",
    "                             batch_size=10, \n",
    "                             collate_fn=dataset.collater, \n",
    "                             shuffle=True,\n",
    "                             num_workers=2)\n",
    "batch = None\n",
    "for i in train_dataloader:\n",
    "    batch = i\n",
    "    break"
   ]
  },
  {
   "cell_type": "code",
   "execution_count": 5,
   "metadata": {},
   "outputs": [
    {
     "data": {
      "text/plain": [
       "dict_keys(['src_data', 'normal_data', 'miss_data', 'miss_matrix'])"
      ]
     },
     "execution_count": 5,
     "metadata": {},
     "output_type": "execute_result"
    }
   ],
   "source": [
    "batch.keys()"
   ]
  },
  {
   "cell_type": "markdown",
   "metadata": {},
   "source": [
    "### 模型精度测定"
   ]
  },
  {
   "cell_type": "code",
   "execution_count": 10,
   "metadata": {},
   "outputs": [],
   "source": [
    "from dataModule.dataset1 import FlatDataset\n",
    "from modelModule.model1 import VAE\n",
    "from torch.utils.data import DataLoader\n",
    "from utils import restore_data, result_show, get_missing\n",
    "import torch"
   ]
  },
  {
   "cell_type": "code",
   "execution_count": 12,
   "metadata": {},
   "outputs": [
    {
     "name": "stdout",
     "output_type": "stream",
     "text": [
      "载入成功\n"
     ]
    }
   ],
   "source": [
    "## 模型参数载入\n",
    "model = VAE(dim=16, nhead=4)\n",
    "checkpoint_path = '模型参数保存/Letter_lr_0_0001_lr_scheduler_CosineAnnealingLR/version_2/checkpoints/last.ckpt'    \n",
    "checkpoint = torch.load(checkpoint_path)\n",
    "model.load_state_dict({k.replace('model.',''):v for k,v in checkpoint['state_dict'].items()}) \n",
    "model.eval()\n",
    "print('载入成功')"
   ]
  },
  {
   "cell_type": "code",
   "execution_count": 18,
   "metadata": {},
   "outputs": [
    {
     "name": "stdout",
     "output_type": "stream",
     "text": [
      "原始数据 [ 6.  2.  6. 10.  9.]\n",
      "插补数据 [5.3713654  3.5199894  4.69653413 7.89741933 8.36493373]\n"
     ]
    },
    {
     "data": {
      "text/plain": [
       "array([0.10477243, 0.7599947 , 0.21724431, 0.21025807, 0.07056292])"
      ]
     },
     "execution_count": 18,
     "metadata": {},
     "output_type": "execute_result"
    }
   ],
   "source": [
    "dataset = FlatDataset('Letter_train.csv', is_test=True, data_norm='minmax_norm') # minmax_norm\n",
    "index = 102\n",
    "# src_data, M_matrix, miss_data = dataset[index]['src_data'].reshape(1,-1), dataset[index]['global_miss_matrix'].reshape(1,-1), dataset[index]['global_miss_data'].reshape(1,-1)\n",
    "src_data = dataset[index]['src_data'].reshape(1,-1)\n",
    "normal_data = dataset[index]['global_normal_data'].reshape(1,-1)\n",
    "miss_data, M_matrix = get_missing(normal_data, 0.3) # 产生掩码数据，并采用随机数填补\n",
    "\n",
    "imputed_data, _, _ = model(torch.from_numpy(miss_data).float(), torch.from_numpy(M_matrix).float()) \n",
    "imputed_data = M_matrix * miss_data + (1-M_matrix) * imputed_data.data.numpy() # 得到最终插补结果,数据由[0,1]范围内\n",
    "res_imputed_data = restore_data(imputed_data, dataset.Max_Val, dataset.Min_Val)\n",
    "result_show(src_data, res_imputed_data, M_matrix)"
   ]
  },
  {
   "cell_type": "code",
   "execution_count": null,
   "metadata": {},
   "outputs": [],
   "source": []
  }
 ],
 "metadata": {
  "interpreter": {
   "hash": "2f394aca7ca06fed1e6064aef884364492d7cdda3614a461e02e6407fc40ba69"
  },
  "kernelspec": {
   "display_name": "Python 3.8.10 ('base')",
   "language": "python",
   "name": "python3"
  },
  "language_info": {
   "codemirror_mode": {
    "name": "ipython",
    "version": 3
   },
   "file_extension": ".py",
   "mimetype": "text/x-python",
   "name": "python",
   "nbconvert_exporter": "python",
   "pygments_lexer": "ipython3",
   "version": "3.8.10"
  },
  "orig_nbformat": 4
 },
 "nbformat": 4,
 "nbformat_minor": 2
}

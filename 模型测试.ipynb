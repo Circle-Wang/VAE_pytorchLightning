{
 "cells": [
  {
   "cell_type": "markdown",
   "metadata": {},
   "source": [
    "Spam: \n",
    "Credit: 1032114"
   ]
  },
  {
   "cell_type": "markdown",
   "metadata": {},
   "source": [
    "### 配置文件验证"
   ]
  },
  {
   "cell_type": "code",
   "execution_count": null,
   "metadata": {},
   "outputs": [],
   "source": [
    "from omegaconf import OmegaConf\n",
    "hparams = OmegaConf.load('config_Spam.yaml') # 读取配置文件"
   ]
  },
  {
   "cell_type": "code",
   "execution_count": null,
   "metadata": {},
   "outputs": [],
   "source": [
    "import os\n",
    "work_path = os.getcwd()\n",
    "hparams.pro_type_file = os.path.join(work_path, hparams.pro_type_file)"
   ]
  },
  {
   "cell_type": "markdown",
   "metadata": {},
   "source": [
    "### 得到数据集相关属性"
   ]
  },
  {
   "cell_type": "code",
   "execution_count": null,
   "metadata": {},
   "outputs": [],
   "source": [
    "import pickle\n",
    "import pandas as pd\n",
    "import numpy as np\n",
    "import torch\n",
    "# data_pd = pd.read_csv('Letter_train.csv')\n",
    "# col_names = list(data_pd)\n",
    "# df[col_name].value_counts()\n",
    "# pro_types = [('discrete',16) for _ in col_names]\n",
    "# with open('Letter_pro_type.pkl', 'wb') as f:\n",
    "#     pickle.dump(pro_types, f)"
   ]
  },
  {
   "cell_type": "markdown",
   "metadata": {},
   "source": [
    "### dataloader验证"
   ]
  },
  {
   "cell_type": "code",
   "execution_count": 13,
   "metadata": {},
   "outputs": [],
   "source": [
    "import torch\n",
    "from dataModule.dataset1 import FlatDataset, ValidDataset\n",
    "from torch.utils.data import DataLoader"
   ]
  },
  {
   "cell_type": "code",
   "execution_count": 15,
   "metadata": {},
   "outputs": [],
   "source": [
    "train_dataset = FlatDataset('Credit_Card/Credit模拟缺失_0_3.csv', \n",
    "                    pro_type_file='Credit_Card/Credit_Card_pro_type.pkl',\n",
    "                    replace_dict_file='Credit_Card/Credit_Card数值置换表.pkl')\n",
    "\n",
    "dataloader = DataLoader(train_dataset, \n",
    "                             batch_size=10, \n",
    "                             collate_fn=train_dataset.collater, \n",
    "                             shuffle=False,\n",
    "                             num_workers=2)\n",
    "batch = None\n",
    "for i in dataloader:\n",
    "    batch = i\n",
    "    break"
   ]
  },
  {
   "attachments": {},
   "cell_type": "markdown",
   "metadata": {},
   "source": [
    "#### 测试集检测"
   ]
  },
  {
   "cell_type": "code",
   "execution_count": null,
   "metadata": {},
   "outputs": [],
   "source": [
    "ValidDataset = ValidDataset(miss_file='Credit_Card/Credit模拟缺失_0_3.csv', \n",
    "                            complete_file='Credit_Card/Credit_Card_without_label.csv',\n",
    "                            pro_type_file='Credit_Card/Credit_Card_pro_type.pkl',\n",
    "                            replace_dict_file='Credit_Card/Credit_Card数值置换表.pkl')\n",
    "\n",
    "valid_dataloader = DataLoader(ValidDataset, \n",
    "                             batch_size=10, \n",
    "                             collate_fn=ValidDataset.collater, \n",
    "                             shuffle=False,\n",
    "                             num_workers=2)\n",
    "val_batch = None\n",
    "for i in valid_dataloader:\n",
    "    val_batch = i\n",
    "    break"
   ]
  },
  {
   "attachments": {},
   "cell_type": "markdown",
   "metadata": {},
   "source": [
    "### 模型测试"
   ]
  },
  {
   "cell_type": "code",
   "execution_count": 1,
   "metadata": {},
   "outputs": [],
   "source": [
    "from modelModule.model import VAE\n",
    "import torch\n",
    "import pickle\n",
    "\n",
    "model = VAE(dim=23, \n",
    "            pro_types=pickle.load(open('Credit_Card/Credit_Card_pro_type.pkl', 'rb')),\n",
    "            replace_dict=pickle.load(open('Credit_Card/Credit_Card数值置换表.pkl', 'rb')))"
   ]
  },
  {
   "cell_type": "code",
   "execution_count": null,
   "metadata": {},
   "outputs": [],
   "source": [
    "global_normal, portion_normal = val_batch['global_normal'], val_batch['portion_normal']\n",
    "M_matrix = val_batch['miss_matrix']\n",
    "out, D_list, mu, log_var = model(portion_normal, M_matrix)"
   ]
  },
  {
   "cell_type": "code",
   "execution_count": 19,
   "metadata": {},
   "outputs": [],
   "source": [
    "global_normal, portion_normal = batch['global_normal'], batch['portion_normal']\n",
    "M_matrix = batch['miss_matrix']\n",
    "out, D_list, mu, log_var = model(portion_normal, M_matrix)"
   ]
  },
  {
   "attachments": {},
   "cell_type": "markdown",
   "metadata": {},
   "source": [
    "### 模型预测输出测试"
   ]
  },
  {
   "cell_type": "code",
   "execution_count": 2,
   "metadata": {},
   "outputs": [
    {
     "data": {
      "text/html": [
       "<div>\n",
       "<style scoped>\n",
       "    .dataframe tbody tr th:only-of-type {\n",
       "        vertical-align: middle;\n",
       "    }\n",
       "\n",
       "    .dataframe tbody tr th {\n",
       "        vertical-align: top;\n",
       "    }\n",
       "\n",
       "    .dataframe thead th {\n",
       "        text-align: right;\n",
       "    }\n",
       "</style>\n",
       "<table border=\"1\" class=\"dataframe\">\n",
       "  <thead>\n",
       "    <tr style=\"text-align: right;\">\n",
       "      <th></th>\n",
       "      <th>X1</th>\n",
       "      <th>X2</th>\n",
       "      <th>X3</th>\n",
       "      <th>X4</th>\n",
       "      <th>X5</th>\n",
       "      <th>X6</th>\n",
       "      <th>X7</th>\n",
       "      <th>X8</th>\n",
       "      <th>X9</th>\n",
       "      <th>X10</th>\n",
       "      <th>...</th>\n",
       "      <th>X14</th>\n",
       "      <th>X15</th>\n",
       "      <th>X16</th>\n",
       "      <th>X17</th>\n",
       "      <th>X18</th>\n",
       "      <th>X19</th>\n",
       "      <th>X20</th>\n",
       "      <th>X21</th>\n",
       "      <th>X22</th>\n",
       "      <th>X23</th>\n",
       "    </tr>\n",
       "  </thead>\n",
       "  <tbody>\n",
       "    <tr>\n",
       "      <th>0</th>\n",
       "      <td>20000.0000</td>\n",
       "      <td>1</td>\n",
       "      <td>2</td>\n",
       "      <td>1</td>\n",
       "      <td>24.000000</td>\n",
       "      <td>2</td>\n",
       "      <td>2</td>\n",
       "      <td>-1</td>\n",
       "      <td>-1</td>\n",
       "      <td>-2</td>\n",
       "      <td>...</td>\n",
       "      <td>689.00000</td>\n",
       "      <td>0.0000</td>\n",
       "      <td>422139.56250</td>\n",
       "      <td>0.00000</td>\n",
       "      <td>252571.093750</td>\n",
       "      <td>847197.500</td>\n",
       "      <td>0.00000</td>\n",
       "      <td>0.0000</td>\n",
       "      <td>213124.296875</td>\n",
       "      <td>0.000</td>\n",
       "    </tr>\n",
       "    <tr>\n",
       "      <th>1</th>\n",
       "      <td>120000.0000</td>\n",
       "      <td>2</td>\n",
       "      <td>2</td>\n",
       "      <td>0</td>\n",
       "      <td>50.095112</td>\n",
       "      <td>3</td>\n",
       "      <td>2</td>\n",
       "      <td>0</td>\n",
       "      <td>0</td>\n",
       "      <td>0</td>\n",
       "      <td>...</td>\n",
       "      <td>353114.03125</td>\n",
       "      <td>362709.6875</td>\n",
       "      <td>3455.00000</td>\n",
       "      <td>3261.00000</td>\n",
       "      <td>253493.250000</td>\n",
       "      <td>1000.000</td>\n",
       "      <td>1000.00000</td>\n",
       "      <td>1000.0000</td>\n",
       "      <td>0.000000</td>\n",
       "      <td>2000.000</td>\n",
       "    </tr>\n",
       "    <tr>\n",
       "      <th>2</th>\n",
       "      <td>90000.0000</td>\n",
       "      <td>2</td>\n",
       "      <td>2</td>\n",
       "      <td>2</td>\n",
       "      <td>50.132286</td>\n",
       "      <td>0</td>\n",
       "      <td>0</td>\n",
       "      <td>0</td>\n",
       "      <td>0</td>\n",
       "      <td>0</td>\n",
       "      <td>...</td>\n",
       "      <td>13559.00000</td>\n",
       "      <td>14331.0000</td>\n",
       "      <td>424672.31250</td>\n",
       "      <td>15549.00000</td>\n",
       "      <td>1518.000000</td>\n",
       "      <td>1500.000</td>\n",
       "      <td>1000.00000</td>\n",
       "      <td>264960.0625</td>\n",
       "      <td>1000.000000</td>\n",
       "      <td>265641.625</td>\n",
       "    </tr>\n",
       "    <tr>\n",
       "      <th>3</th>\n",
       "      <td>505857.9375</td>\n",
       "      <td>2</td>\n",
       "      <td>2</td>\n",
       "      <td>1</td>\n",
       "      <td>37.000000</td>\n",
       "      <td>0</td>\n",
       "      <td>0</td>\n",
       "      <td>0</td>\n",
       "      <td>0</td>\n",
       "      <td>6</td>\n",
       "      <td>...</td>\n",
       "      <td>49291.00000</td>\n",
       "      <td>28314.0000</td>\n",
       "      <td>424084.06250</td>\n",
       "      <td>29547.00000</td>\n",
       "      <td>253294.859375</td>\n",
       "      <td>2019.000</td>\n",
       "      <td>1200.00000</td>\n",
       "      <td>1100.0000</td>\n",
       "      <td>1069.000000</td>\n",
       "      <td>1000.000</td>\n",
       "    </tr>\n",
       "    <tr>\n",
       "      <th>4</th>\n",
       "      <td>50000.0000</td>\n",
       "      <td>1</td>\n",
       "      <td>2</td>\n",
       "      <td>1</td>\n",
       "      <td>57.000000</td>\n",
       "      <td>-1</td>\n",
       "      <td>0</td>\n",
       "      <td>-1</td>\n",
       "      <td>0</td>\n",
       "      <td>4</td>\n",
       "      <td>...</td>\n",
       "      <td>35835.00000</td>\n",
       "      <td>20940.0000</td>\n",
       "      <td>19146.00000</td>\n",
       "      <td>19131.00000</td>\n",
       "      <td>2000.000000</td>\n",
       "      <td>842876.000</td>\n",
       "      <td>450919.53125</td>\n",
       "      <td>264814.3125</td>\n",
       "      <td>689.000000</td>\n",
       "      <td>679.000</td>\n",
       "    </tr>\n",
       "    <tr>\n",
       "      <th>...</th>\n",
       "      <td>...</td>\n",
       "      <td>...</td>\n",
       "      <td>...</td>\n",
       "      <td>...</td>\n",
       "      <td>...</td>\n",
       "      <td>...</td>\n",
       "      <td>...</td>\n",
       "      <td>...</td>\n",
       "      <td>...</td>\n",
       "      <td>...</td>\n",
       "      <td>...</td>\n",
       "      <td>...</td>\n",
       "      <td>...</td>\n",
       "      <td>...</td>\n",
       "      <td>...</td>\n",
       "      <td>...</td>\n",
       "      <td>...</td>\n",
       "      <td>...</td>\n",
       "      <td>...</td>\n",
       "      <td>...</td>\n",
       "      <td>...</td>\n",
       "    </tr>\n",
       "    <tr>\n",
       "      <th>29995</th>\n",
       "      <td>220000.0000</td>\n",
       "      <td>1</td>\n",
       "      <td>2</td>\n",
       "      <td>1</td>\n",
       "      <td>39.000000</td>\n",
       "      <td>0</td>\n",
       "      <td>0</td>\n",
       "      <td>0</td>\n",
       "      <td>-2</td>\n",
       "      <td>0</td>\n",
       "      <td>...</td>\n",
       "      <td>349679.96875</td>\n",
       "      <td>88004.0000</td>\n",
       "      <td>31237.00000</td>\n",
       "      <td>15980.00000</td>\n",
       "      <td>8500.000000</td>\n",
       "      <td>20000.000</td>\n",
       "      <td>5003.00000</td>\n",
       "      <td>3047.0000</td>\n",
       "      <td>5000.000000</td>\n",
       "      <td>1000.000</td>\n",
       "    </tr>\n",
       "    <tr>\n",
       "      <th>29996</th>\n",
       "      <td>150000.0000</td>\n",
       "      <td>2</td>\n",
       "      <td>3</td>\n",
       "      <td>2</td>\n",
       "      <td>50.097469</td>\n",
       "      <td>-1</td>\n",
       "      <td>7</td>\n",
       "      <td>2</td>\n",
       "      <td>3</td>\n",
       "      <td>0</td>\n",
       "      <td>...</td>\n",
       "      <td>3502.00000</td>\n",
       "      <td>364370.8125</td>\n",
       "      <td>5190.00000</td>\n",
       "      <td>0.00000</td>\n",
       "      <td>253813.031250</td>\n",
       "      <td>3526.000</td>\n",
       "      <td>448369.50000</td>\n",
       "      <td>129.0000</td>\n",
       "      <td>0.000000</td>\n",
       "      <td>0.000</td>\n",
       "    </tr>\n",
       "    <tr>\n",
       "      <th>29997</th>\n",
       "      <td>30000.0000</td>\n",
       "      <td>1</td>\n",
       "      <td>2</td>\n",
       "      <td>2</td>\n",
       "      <td>37.000000</td>\n",
       "      <td>4</td>\n",
       "      <td>7</td>\n",
       "      <td>-2</td>\n",
       "      <td>-1</td>\n",
       "      <td>0</td>\n",
       "      <td>...</td>\n",
       "      <td>348365.62500</td>\n",
       "      <td>20878.0000</td>\n",
       "      <td>423248.21875</td>\n",
       "      <td>19357.00000</td>\n",
       "      <td>0.000000</td>\n",
       "      <td>0.000</td>\n",
       "      <td>22000.00000</td>\n",
       "      <td>4200.0000</td>\n",
       "      <td>214857.328125</td>\n",
       "      <td>3100.000</td>\n",
       "    </tr>\n",
       "    <tr>\n",
       "      <th>29998</th>\n",
       "      <td>80000.0000</td>\n",
       "      <td>1</td>\n",
       "      <td>3</td>\n",
       "      <td>3</td>\n",
       "      <td>41.000000</td>\n",
       "      <td>1</td>\n",
       "      <td>-1</td>\n",
       "      <td>2</td>\n",
       "      <td>-2</td>\n",
       "      <td>0</td>\n",
       "      <td>...</td>\n",
       "      <td>76304.00000</td>\n",
       "      <td>52774.0000</td>\n",
       "      <td>11855.00000</td>\n",
       "      <td>304977.96875</td>\n",
       "      <td>85900.000000</td>\n",
       "      <td>846491.625</td>\n",
       "      <td>1178.00000</td>\n",
       "      <td>1926.0000</td>\n",
       "      <td>52964.000000</td>\n",
       "      <td>264666.000</td>\n",
       "    </tr>\n",
       "    <tr>\n",
       "      <th>29999</th>\n",
       "      <td>50000.0000</td>\n",
       "      <td>2</td>\n",
       "      <td>3</td>\n",
       "      <td>0</td>\n",
       "      <td>46.000000</td>\n",
       "      <td>0</td>\n",
       "      <td>2</td>\n",
       "      <td>0</td>\n",
       "      <td>0</td>\n",
       "      <td>0</td>\n",
       "      <td>...</td>\n",
       "      <td>49764.00000</td>\n",
       "      <td>363015.5000</td>\n",
       "      <td>32428.00000</td>\n",
       "      <td>303425.25000</td>\n",
       "      <td>2078.000000</td>\n",
       "      <td>1800.000</td>\n",
       "      <td>449170.68750</td>\n",
       "      <td>1000.0000</td>\n",
       "      <td>1000.000000</td>\n",
       "      <td>1000.000</td>\n",
       "    </tr>\n",
       "  </tbody>\n",
       "</table>\n",
       "<p>30000 rows × 23 columns</p>\n",
       "</div>"
      ],
      "text/plain": [
       "                X1  X2  X3  X4         X5  X6  X7  X8  X9  X10  ...  \\\n",
       "0       20000.0000   1   2   1  24.000000   2   2  -1  -1   -2  ...   \n",
       "1      120000.0000   2   2   0  50.095112   3   2   0   0    0  ...   \n",
       "2       90000.0000   2   2   2  50.132286   0   0   0   0    0  ...   \n",
       "3      505857.9375   2   2   1  37.000000   0   0   0   0    6  ...   \n",
       "4       50000.0000   1   2   1  57.000000  -1   0  -1   0    4  ...   \n",
       "...            ...  ..  ..  ..        ...  ..  ..  ..  ..  ...  ...   \n",
       "29995  220000.0000   1   2   1  39.000000   0   0   0  -2    0  ...   \n",
       "29996  150000.0000   2   3   2  50.097469  -1   7   2   3    0  ...   \n",
       "29997   30000.0000   1   2   2  37.000000   4   7  -2  -1    0  ...   \n",
       "29998   80000.0000   1   3   3  41.000000   1  -1   2  -2    0  ...   \n",
       "29999   50000.0000   2   3   0  46.000000   0   2   0   0    0  ...   \n",
       "\n",
       "                X14          X15           X16           X17            X18  \\\n",
       "0         689.00000       0.0000  422139.56250       0.00000  252571.093750   \n",
       "1      353114.03125  362709.6875    3455.00000    3261.00000  253493.250000   \n",
       "2       13559.00000   14331.0000  424672.31250   15549.00000    1518.000000   \n",
       "3       49291.00000   28314.0000  424084.06250   29547.00000  253294.859375   \n",
       "4       35835.00000   20940.0000   19146.00000   19131.00000    2000.000000   \n",
       "...             ...          ...           ...           ...            ...   \n",
       "29995  349679.96875   88004.0000   31237.00000   15980.00000    8500.000000   \n",
       "29996    3502.00000  364370.8125    5190.00000       0.00000  253813.031250   \n",
       "29997  348365.62500   20878.0000  423248.21875   19357.00000       0.000000   \n",
       "29998   76304.00000   52774.0000   11855.00000  304977.96875   85900.000000   \n",
       "29999   49764.00000  363015.5000   32428.00000  303425.25000    2078.000000   \n",
       "\n",
       "              X19           X20          X21            X22         X23  \n",
       "0      847197.500       0.00000       0.0000  213124.296875       0.000  \n",
       "1        1000.000    1000.00000    1000.0000       0.000000    2000.000  \n",
       "2        1500.000    1000.00000  264960.0625    1000.000000  265641.625  \n",
       "3        2019.000    1200.00000    1100.0000    1069.000000    1000.000  \n",
       "4      842876.000  450919.53125  264814.3125     689.000000     679.000  \n",
       "...           ...           ...          ...            ...         ...  \n",
       "29995   20000.000    5003.00000    3047.0000    5000.000000    1000.000  \n",
       "29996    3526.000  448369.50000     129.0000       0.000000       0.000  \n",
       "29997       0.000   22000.00000    4200.0000  214857.328125    3100.000  \n",
       "29998  846491.625    1178.00000    1926.0000   52964.000000  264666.000  \n",
       "29999    1800.000  449170.68750    1000.0000    1000.000000    1000.000  \n",
       "\n",
       "[30000 rows x 23 columns]"
      ]
     },
     "execution_count": 2,
     "metadata": {},
     "output_type": "execute_result"
    }
   ],
   "source": [
    "import pandas as pd\n",
    "miss_data = pd.read_csv(\"Credit_Card/Credit模拟缺失_0_3.csv\")\n",
    "model.inference(miss_data)"
   ]
  },
  {
   "attachments": {},
   "cell_type": "markdown",
   "metadata": {},
   "source": [
    "### 损失函数测试"
   ]
  },
  {
   "cell_type": "code",
   "execution_count": null,
   "metadata": {},
   "outputs": [],
   "source": [
    "from modelModule.loss_function import vae_loss"
   ]
  },
  {
   "cell_type": "code",
   "execution_count": null,
   "metadata": {},
   "outputs": [],
   "source": [
    "MSE_loss, EntropyLoss = vae_loss(portion_normal, out, M_matrix, D_list, model.attribute_type)"
   ]
  },
  {
   "cell_type": "code",
   "execution_count": null,
   "metadata": {},
   "outputs": [],
   "source": [
    "MSE_loss"
   ]
  },
  {
   "cell_type": "code",
   "execution_count": null,
   "metadata": {},
   "outputs": [],
   "source": [
    "EntropyLoss"
   ]
  },
  {
   "cell_type": "code",
   "execution_count": null,
   "metadata": {},
   "outputs": [],
   "source": []
  },
  {
   "cell_type": "code",
   "execution_count": null,
   "metadata": {},
   "outputs": [],
   "source": []
  },
  {
   "cell_type": "code",
   "execution_count": null,
   "metadata": {},
   "outputs": [],
   "source": []
  },
  {
   "cell_type": "code",
   "execution_count": null,
   "metadata": {},
   "outputs": [],
   "source": [
    "a = []\n",
    "a.append(None)\n",
    "a.append(None)"
   ]
  },
  {
   "cell_type": "code",
   "execution_count": null,
   "metadata": {},
   "outputs": [],
   "source": [
    "a"
   ]
  },
  {
   "cell_type": "code",
   "execution_count": null,
   "metadata": {},
   "outputs": [],
   "source": [
    "val_batch['global_normal'][1]"
   ]
  },
  {
   "cell_type": "code",
   "execution_count": null,
   "metadata": {},
   "outputs": [],
   "source": [
    "val_batch['portion_normal'][1]"
   ]
  },
  {
   "cell_type": "code",
   "execution_count": null,
   "metadata": {},
   "outputs": [],
   "source": [
    "val_batch['miss_matrix'][1]"
   ]
  },
  {
   "cell_type": "code",
   "execution_count": null,
   "metadata": {},
   "outputs": [],
   "source": [
    "train_dataloader = DataLoader(train_dataset, \n",
    "                             batch_size=10, \n",
    "                             collate_fn=train_dataset.collater, \n",
    "                             shuffle=False,\n",
    "                             num_workers=2)\n",
    "batch = None\n",
    "for i in train_dataloader:\n",
    "    batch = i\n",
    "    break"
   ]
  },
  {
   "cell_type": "code",
   "execution_count": null,
   "metadata": {},
   "outputs": [],
   "source": [
    "batch['src_data']"
   ]
  },
  {
   "cell_type": "code",
   "execution_count": null,
   "metadata": {},
   "outputs": [],
   "source": [
    "batch[\"global_normal\"]"
   ]
  },
  {
   "cell_type": "code",
   "execution_count": null,
   "metadata": {},
   "outputs": [],
   "source": [
    "batch[\"portion_normal\"][0]"
   ]
  },
  {
   "cell_type": "code",
   "execution_count": null,
   "metadata": {},
   "outputs": [],
   "source": [
    "a = torch.randint(0,10, size=(5,4,3)).float()\n",
    "print(a)\n",
    "f = torch.nn.Softmax(dim=1)\n",
    "f(a)\n"
   ]
  },
  {
   "cell_type": "code",
   "execution_count": null,
   "metadata": {},
   "outputs": [],
   "source": [
    "a = torch.randint(0,10,size=(5,12,4)).float()\n",
    "print(a)\n",
    "model = torch.nn.Linear(4,10)\n",
    "model(a[:,1,:]).shape"
   ]
  },
  {
   "cell_type": "code",
   "execution_count": null,
   "metadata": {},
   "outputs": [],
   "source": [
    "model(a[:,0].reshape(-1,1,1)).permute(0, 2, 1).shape"
   ]
  },
  {
   "cell_type": "code",
   "execution_count": null,
   "metadata": {},
   "outputs": [],
   "source": [
    "a = torch.randint(0,10,size=(5,3)).float()\n",
    "model = torch.nn.Conv1d(in_channels=1, out_channels=8, kernel_size=1, stride=1)\n",
    "print(a)\n",
    "embedding_out = torch.tensor([])\n",
    "embedding_out = torch.cat((embedding_out, model(a[:,0].reshape(-1,1,1)).permute(0, 2, 1)), dim = 1)\n",
    "embedding_out = torch.cat((embedding_out, model(a[:,1].reshape(-1,1,1)).permute(0, 2, 1)), dim = 1)\n",
    "print(embedding_out.shape)\n",
    "embedding_out"
   ]
  },
  {
   "attachments": {},
   "cell_type": "markdown",
   "metadata": {},
   "source": [
    "### 模型精度测定"
   ]
  },
  {
   "cell_type": "code",
   "execution_count": null,
   "metadata": {},
   "outputs": [],
   "source": [
    "from dataModule.dataset1 import FlatDataset\n",
    "from modelModule.model5 import VAE5\n",
    "from torch.utils.data import DataLoader\n",
    "import torch\n",
    "import numpy as np\n",
    "import pandas as pd\n",
    "import pickle"
   ]
  },
  {
   "cell_type": "code",
   "execution_count": null,
   "metadata": {},
   "outputs": [],
   "source": [
    "## 模型参数载入\n",
    "model = VAE5(dim=9, \n",
    "            pro_types=pickle.load(open('Breast\\Breast_pro_type.pkl', 'rb')),\n",
    "            replace_dict=pickle.load(open('Breast\\Breast数值置换表.pkl', 'rb')))# nhead=3\n",
    "# checkpoint_path = r'模型参数保存/Credit_Card_model5_norm_way_minmax_norm_/version_1/checkpoints/epoch=31-step=3008.ckpt'    \n",
    "data_norm = 'minmax_norm'  # 数据集采用正则化方式minmax_norm,mean_norm\n",
    "\n",
    "# checkpoint = torch.load(checkpoint_path)\n",
    "# model.load_state_dict({k.replace('model.',''):v for k,v in checkpoint['state_dict'].items()}) \n",
    "# model.eval()\n",
    "\n",
    "print('载入成功')"
   ]
  },
  {
   "cell_type": "code",
   "execution_count": null,
   "metadata": {},
   "outputs": [],
   "source": [
    "miss_file = 'Breast\\Breast模拟缺失_0_3.csv'      # 缺失数据集\n",
    "miss_data = pd.read_csv(miss_file)\n",
    "\n",
    "c, _ = model.inference(miss_data)\n"
   ]
  },
  {
   "cell_type": "code",
   "execution_count": null,
   "metadata": {},
   "outputs": [],
   "source": [
    "c.shape"
   ]
  },
  {
   "cell_type": "code",
   "execution_count": null,
   "metadata": {},
   "outputs": [],
   "source": [
    "# ## 模型参数载入\n",
    "# model = VAE5(dim=23, pro_types=pickle.load(open('Credit_Card\\Credit_Card_pro_type.pkl', 'rb'))) # nhead=3\n",
    "# checkpoint_path = r'模型参数保存/Credit_Card_model5_norm_way_minmax_norm_/version_1/checkpoints/epoch=31-step=3008.ckpt'    \n",
    "# data_norm = 'minmax_norm'  # 数据集采用正则化方式minmax_norm,mean_norm\n",
    "# train_csv = r'Credit_Card_model_train.csv'\n",
    "# test_csv = r'Credit_Card_model_test.csv'\n",
    "\n",
    "# checkpoint = torch.load(checkpoint_path)\n",
    "# model.load_state_dict({k.replace('model.',''):v for k,v in checkpoint['state_dict'].items()}) \n",
    "# model.eval()\n",
    "# ## 载入训练集的均值(最小)方差(最大)\n",
    "# train_dataset = FlatDataset(train_csv, data_norm=data_norm, pro_type_file='Credit_Card_pro_type.pkl')\n",
    "# model.get_global_min_max(dataset=train_dataset)\n",
    "# print('载入成功')"
   ]
  },
  {
   "cell_type": "code",
   "execution_count": null,
   "metadata": {},
   "outputs": [],
   "source": [
    "\n",
    "# test_dataset = FlatDataset(test_csv, data_norm=data_norm, pro_type_file='Credit_Card_pro_type.pkl')\n",
    "# data_size = 10\n",
    "# src_data = np.stack([test_dataset[index]['src_data'] for index in range(data_size)], axis=0)\n",
    "# normal_data = np.stack([test_dataset[index]['global_normal_data'] for index in range(data_size)], axis=0)\n",
    "# portion_normal_data = np.stack([test_dataset[index]['portion_normal_data'] for index in range(data_size)], axis=0)\n",
    "# _, miss_matrix = get_missing(src_data, 0.3) # 得到缺失矩阵\n",
    "# input = portion_normal_data.copy()\n",
    "# input[miss_matrix == 0] = np.nan"
   ]
  },
  {
   "cell_type": "code",
   "execution_count": null,
   "metadata": {},
   "outputs": [],
   "source": [
    "# imputed_data, output = model.inference(input, miss_matrix) # inference输出的结果已经重构后的结果\n",
    "# imputed_data = M_matrix * miss_data + (1-M_matrix) * imputed_data.data.numpy()"
   ]
  },
  {
   "cell_type": "code",
   "execution_count": null,
   "metadata": {},
   "outputs": [],
   "source": [
    "# print(normal_data[0])\n",
    "# print(output[0])\n"
   ]
  },
  {
   "cell_type": "code",
   "execution_count": null,
   "metadata": {},
   "outputs": [],
   "source": [
    "imputed_data[1]"
   ]
  },
  {
   "cell_type": "code",
   "execution_count": null,
   "metadata": {},
   "outputs": [],
   "source": [
    "result_show(src_data, imputed_data, miss_matrix)"
   ]
  },
  {
   "cell_type": "code",
   "execution_count": null,
   "metadata": {},
   "outputs": [],
   "source": [
    "imputed_data"
   ]
  },
  {
   "cell_type": "code",
   "execution_count": null,
   "metadata": {},
   "outputs": [],
   "source": [
    "imputed_data.shape"
   ]
  },
  {
   "cell_type": "code",
   "execution_count": null,
   "metadata": {},
   "outputs": [],
   "source": [
    "# test_dataset = FlatDataset('Letter_test.csv', data_norm='mean_norm') # minmax_norm\n",
    "# index = 102\n",
    "# src_data, M_matrix, miss_data = test_dataset[index]['src_data'].reshape(1,-1), test_dataset[index]['global_miss_matrix'].reshape(1,-1), test_dataset[index]['global_miss_data'].reshape(1,-1)\n",
    "# src_data = test_dataset[index]['src_data'].reshape(1,-1)\n",
    "# normal_data = test_dataset[index]['global_normal_data'].reshape(1,-1)\n",
    "# miss_data, M_matrix = get_missing(normal_data, 0.3) # 产生掩码数据，并采用随机数填补\n",
    "\n",
    "# imputed_data, _, _ = model(torch.from_numpy(miss_data).float(), torch.from_numpy(M_matrix).float()) \n",
    "# imputed_data = M_matrix * miss_data + (1-M_matrix) * imputed_data.data.numpy() # 得到最终插补结果,数据由[0,1]范围内\n",
    "# res_imputed_data = np.around(restore_data(imputed_data, test_dataset.Max_Val, test_dataset.Min_Val))\n",
    "# result_show(src_data, res_imputed_data, M_matrix)"
   ]
  },
  {
   "cell_type": "code",
   "execution_count": null,
   "metadata": {},
   "outputs": [],
   "source": [
    "# batch测试\n",
    "# src_data, miss_data, M_matrix = batch['src_data'], batch['miss_data'], batch['miss_matrix']\n",
    "# normal_data = batch['normal_data']\n",
    "# imputed_data, _, _ = model(miss_data, M_matrix)\n",
    "# imputed_data = M_matrix * miss_data + (1-M_matrix) * imputed_data.data.numpy()\n",
    "# res_imputed_data = np.around(restore_data(imputed_data, dataset.Max_Val, dataset.Min_Val))"
   ]
  },
  {
   "cell_type": "code",
   "execution_count": null,
   "metadata": {},
   "outputs": [],
   "source": []
  }
 ],
 "metadata": {
  "kernelspec": {
   "display_name": "base",
   "language": "python",
   "name": "python3"
  },
  "language_info": {
   "codemirror_mode": {
    "name": "ipython",
    "version": 3
   },
   "file_extension": ".py",
   "mimetype": "text/x-python",
   "name": "python",
   "nbconvert_exporter": "python",
   "pygments_lexer": "ipython3",
   "version": "3.9.12 (main, Apr  5 2022, 06:56:58) \n[GCC 7.5.0]"
  },
  "orig_nbformat": 4,
  "vscode": {
   "interpreter": {
    "hash": "9e4dc998ab49a4b372a2babfb22fa4b89464fdfae3cada14d780c018a2464596"
   }
  }
 },
 "nbformat": 4,
 "nbformat_minor": 2
}

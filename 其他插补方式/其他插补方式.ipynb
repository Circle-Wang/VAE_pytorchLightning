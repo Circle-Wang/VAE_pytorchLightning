{
 "cells": [
  {
   "cell_type": "code",
   "execution_count": 1,
   "metadata": {},
   "outputs": [],
   "source": [
    "import numpy as np\n",
    "import pandas as pd\n",
    "\n",
    "\n",
    "def result_show(src_data, imputed_data, M_matrix):\n",
    "    '''\n",
    "    根据原来数据, 插补数据, 以及缺失矩阵计算缺失部分的插补结果展示。\n",
    "    src_data: (batch, dim)输入维度\n",
    "    '''\n",
    "    src_imputed = src_data[M_matrix==0]\n",
    "    gen_imputed = imputed_data[M_matrix==0]\n",
    "    print(\"原始数据\",src_imputed[:10])\n",
    "    print(\"插补数据\",gen_imputed[:10])\n",
    "    diff_ratio = abs(src_imputed - gen_imputed)/(src_imputed+1e-8) # 插补数与真值比例相差比例\n",
    "    MSE_loss = sum((src_imputed - gen_imputed)**2)\n",
    "    return MSE_loss\n",
    "\n",
    "def get_missing(data, p_miss, random_seed=0):\n",
    "    '''\n",
    "    得到缺失缺失矩阵(1代表存在数据,0代表缺失数据), 以及包含缺失数据的数据集, 缺失数据采用9999替代\n",
    "    data: 完整数据\n",
    "    p: 缺失概率\n",
    "    return: 包含缺失数据的矩阵, Missing矩阵\n",
    "    '''\n",
    "    np.random.seed(random_seed)\n",
    "    num, Dim = data.shape\n",
    "    p_miss_vec = p_miss * np.ones((Dim,1))\n",
    "    Missing = np.zeros((num, Dim)) # 缺失矩阵, 1代表存在数据,0代表缺失数据\n",
    "    for i in range(Dim):\n",
    "        A = np.random.uniform(0., 1., size = [num,]) # 从[0,1)抽取随机数，shape=size，此处为(4601,)\n",
    "        B = A > p_miss_vec[i] # (4601,)返回bool向量，如果随机数大于p_miss_vec则为1，控制缺失比率\n",
    "        Missing[:,i] = 1.*B   # 得到随机缺失矩阵\n",
    "    \n",
    "    missing_data = data.copy()\n",
    "    missing_data[Missing==0] = np.nan\n",
    "    return missing_data, Missing"
   ]
  },
  {
   "cell_type": "markdown",
   "metadata": {},
   "source": [
    "### 根据完整数据集模拟得到缺失数据集"
   ]
  },
  {
   "cell_type": "code",
   "execution_count": null,
   "metadata": {},
   "outputs": [],
   "source": [
    "import numpy as np\n",
    "import pandas as pd\n",
    "data = pd.read_csv('Letter清洗后.csv')\n",
    "miss_data, miss_matrix = get_missing(data, 0.3)\n",
    "## 保存缺失数据 和 真实值\n",
    "index = 100\n",
    "miss_data[:index].to_csv('缺失数据min_batch.csv', index=False)\n",
    "data[:index].to_csv('真实数据min_batch.csv', index=False)\n",
    "pd.DataFrame(miss_matrix[:index]).to_csv('缺失矩阵min_batch.csv', index=False)"
   ]
  },
  {
   "cell_type": "markdown",
   "metadata": {},
   "source": [
    "### 多种方法插补缺失数据\n",
    "- 参看网站: https://blog.csdn.net/qq_38958113/article/details/98220246"
   ]
  },
  {
   "cell_type": "code",
   "execution_count": 13,
   "metadata": {},
   "outputs": [],
   "source": [
    "from sklearn.experimental import enable_iterative_imputer\n",
    "from sklearn.impute import SimpleImputer, IterativeImputer, KNNImputer\n",
    "import miceforest as mf\n",
    "import numpy as np\n",
    "import pandas as pd\n",
    "import sys\n",
    "sys.path.append(r'C:\\王源权\\西南财经大学\\硕士毕业论文\\模型代码\\VAE_pytorchLightning')\n",
    "from dataModule.dataset1 import FlatDataset\n",
    "\n",
    "data_set = FlatDataset('无标签Spam.csv')\n",
    "number = 20\n",
    "src_data = np.stack([data_set[index]['src_data'] for index in range(number)], axis=0)\n",
    "miss_data, miss_matrix = get_missing(src_data, 0.3, random_seed=99)\n",
    "\n",
    "# miss_data = pd.read_csv('无标签缺失数据min_batch.csv').to_numpy()\n",
    "# src_data = pd.read_csv('无标签真实数据min_batch.csv').to_numpy()\n",
    "# miss_matrix = pd.read_csv('无标签缺失矩阵min_batch.csv').to_numpy()"
   ]
  },
  {
   "cell_type": "markdown",
   "metadata": {},
   "source": [
    "#### 采用列均值填补"
   ]
  },
  {
   "cell_type": "code",
   "execution_count": 14,
   "metadata": {},
   "outputs": [
    {
     "name": "stdout",
     "output_type": "stream",
     "text": [
      "原始数据 [0.64 0.   0.64 0.   1.93 0.   0.   0.   0.   0.  ]\n",
      "插补数据 [0.17777778 0.49846154 0.28714286 0.03307692 1.97352941 0.39363636\n",
      " 0.20214286 0.         0.019375   0.        ]\n"
     ]
    },
    {
     "data": {
      "text/plain": [
       "3890825.575453561"
      ]
     },
     "execution_count": 14,
     "metadata": {},
     "output_type": "execute_result"
    }
   ],
   "source": [
    "imp_mean = SimpleImputer(missing_values=np.nan, strategy='mean') # 采用列均值填补\n",
    "imp_mean.fit(miss_data)\n",
    "imputed_data = imp_mean.transform(miss_data) # 如果是离散数值则np.around进行四舍五入操作\n",
    "result_show(src_data, imputed_data, miss_matrix)"
   ]
  },
  {
   "cell_type": "markdown",
   "metadata": {},
   "source": [
    "#### 采用回归器方式进行插补"
   ]
  },
  {
   "cell_type": "code",
   "execution_count": 15,
   "metadata": {},
   "outputs": [
    {
     "name": "stderr",
     "output_type": "stream",
     "text": [
      "c:\\Users\\CircleWang\\AppData\\Local\\Programs\\Python\\Python38\\lib\\site-packages\\sklearn\\impute\\_iterative.py:669: ConvergenceWarning: [IterativeImputer] Early stopping criterion not reached.\n",
      "  warnings.warn(\"[IterativeImputer] Early stopping criterion not\"\n"
     ]
    },
    {
     "name": "stdout",
     "output_type": "stream",
     "text": [
      "原始数据 [0.64 0.   0.64 0.   1.93 0.   0.   0.   0.   0.  ]\n",
      "插补数据 [ 0.55594938  0.48360971  0.28772599  0.03655715  1.92279175 -0.38549468\n",
      "  0.12365756  0.          0.055217    0.        ]\n"
     ]
    },
    {
     "data": {
      "text/plain": [
       "899086.8336186797"
      ]
     },
     "execution_count": 15,
     "metadata": {},
     "output_type": "execute_result"
    }
   ],
   "source": [
    "imp = IterativeImputer(max_iter=36, random_state=0)\n",
    "imp.fit(miss_data) # .fit_transform\n",
    "imputed_data = imp.transform(miss_data)\n",
    "result_show(src_data, imputed_data, miss_matrix)"
   ]
  },
  {
   "cell_type": "markdown",
   "metadata": {},
   "source": [
    "#### 采用knn插值方法"
   ]
  },
  {
   "cell_type": "code",
   "execution_count": 16,
   "metadata": {},
   "outputs": [
    {
     "name": "stdout",
     "output_type": "stream",
     "text": [
      "原始数据 [0.64 0.   0.64 0.   1.93 0.   0.   0.   0.   0.  ]\n",
      "插补数据 [0.23       0.21       0.33333333 0.         2.48       0.\n",
      " 0.14333333 0.         0.         0.        ]\n"
     ]
    },
    {
     "data": {
      "text/plain": [
       "3551686.127585561"
      ]
     },
     "execution_count": 16,
     "metadata": {},
     "output_type": "execute_result"
    }
   ],
   "source": [
    "imputer_knn = KNNImputer(n_neighbors=3) # 存在超参数需要调整\n",
    "imputer_knn.fit(miss_data)\n",
    "imputed_data = imputer_knn.transform(miss_data)\n",
    "result_show(src_data, imputed_data, miss_matrix)"
   ]
  },
  {
   "cell_type": "markdown",
   "metadata": {},
   "source": [
    "#### 使用多重插补方法miceforest\n",
    "- 参考网站：https://blog.csdn.net/upluck/article/details/111868990\n",
    "- mf.ampute_data(miss_data, perc=0.25, random_state=1991)可以根据比例制造缺失数据集"
   ]
  },
  {
   "cell_type": "code",
   "execution_count": 17,
   "metadata": {},
   "outputs": [
    {
     "name": "stdout",
     "output_type": "stream",
     "text": [
      "原始数据 [0.64 0.   0.64 0.   1.93 0.   0.   0.   0.   0.  ]\n",
      "插补数据 [0.28 0.   0.   0.   1.88 0.   0.   0.   0.   0.  ]\n"
     ]
    },
    {
     "data": {
      "text/plain": [
       "2991587.0104910037"
      ]
     },
     "execution_count": 17,
     "metadata": {},
     "output_type": "execute_result"
    }
   ],
   "source": [
    "kernel = mf.ImputationKernel(\n",
    "  miss_data,\n",
    "  datasets=4,\n",
    "  save_all_iterations=True,\n",
    "  random_state=1991\n",
    ")\n",
    "kernel.mice(10)\n",
    "imputed_data = kernel.complete_data(0) # 耗时较长\n",
    "result_show(src_data, imputed_data, miss_matrix)"
   ]
  },
  {
   "cell_type": "markdown",
   "metadata": {},
   "source": [
    "#### 采用VAE模型插补结果"
   ]
  },
  {
   "cell_type": "code",
   "execution_count": 18,
   "metadata": {},
   "outputs": [],
   "source": [
    "from modelModule.model2 import VAE2\n",
    "import torch"
   ]
  },
  {
   "cell_type": "code",
   "execution_count": 19,
   "metadata": {},
   "outputs": [
    {
     "name": "stdout",
     "output_type": "stream",
     "text": [
      "模型载入成功\n",
      "原始数据 [0.64 0.   0.64 0.   1.93 0.   0.   0.   0.   0.  ]\n",
      "插补数据 [ 1.01899262  0.58106679  0.65615669  0.32079956  2.07123064 -0.07889239\n",
      "  0.06986575  0.74187349 -0.20302457  0.24425268]\n"
     ]
    },
    {
     "data": {
      "text/plain": [
       "3974363.7786406972"
      ]
     },
     "execution_count": 19,
     "metadata": {},
     "output_type": "execute_result"
    }
   ],
   "source": [
    "# 模型载入，注意数据维度和模型维度匹配\n",
    "model = VAE2(dim=57, nhead=3)\n",
    "checkpoint_path = r'C:\\王源权\\西南财经大学\\硕士毕业论文\\模型代码\\VAE_pytorchLightning\\模型参数保存\\Spam_model2_norm_way_mean_norm_\\version_1\\epoch=227-step=3420.ckpt'    \n",
    "checkpoint = torch.load(checkpoint_path)\n",
    "model.load_state_dict({k.replace('model.',''):v for k,v in checkpoint['state_dict'].items()}) \n",
    "model.eval()\n",
    "# 载入训练数据集\n",
    "train_dataset = FlatDataset(r'C:\\王源权\\西南财经大学\\硕士毕业论文\\模型代码\\VAE_pytorchLightning\\Spam_train.csv', data_norm='mean_norm')\n",
    "model.get_global_min_max(global_max=train_dataset.Max_Val, global_min=train_dataset.Min_Val)\n",
    "print('模型载入成功')\n",
    "imputed_data, _ = model.inference(miss_data, miss_matrix)\n",
    "result_show(src_data, imputed_data, miss_matrix)"
   ]
  },
  {
   "cell_type": "code",
   "execution_count": 20,
   "metadata": {},
   "outputs": [
    {
     "data": {
      "text/plain": [
       "array([[ 2.19716623e-01,  1.01899262e+00, -2.92007744e-03, ...,\n",
       "         3.87677391e+00,  1.67422871e+01,  3.02092849e+02],\n",
       "       [ 2.19641037e-01,  1.01999877e+00, -3.37557110e-03, ...,\n",
       "         3.89506820e+00,  1.71484385e+01,  3.01454281e+02],\n",
       "       [ 2.19741367e-01,  1.01917114e+00, -2.74495515e-03, ...,\n",
       "         3.87073627e+00,  1.65504260e+01,  3.02244406e+02],\n",
       "       ...,\n",
       "       [ 2.19598354e-01,  1.01828654e+00, -2.32814652e-03, ...,\n",
       "         3.87110601e+00,  1.64658758e+01,  3.02616740e+02],\n",
       "       [ 2.19424203e-01,  1.01691033e+00, -2.74029888e-03, ...,\n",
       "         3.87811887e+00,  1.72094237e+01,  3.01610964e+02],\n",
       "       [ 2.18725516e-01,  1.01581502e+00, -1.91040078e-03, ...,\n",
       "         3.91219547e+00,  1.72485853e+01,  3.01342105e+02]])"
      ]
     },
     "execution_count": 20,
     "metadata": {},
     "output_type": "execute_result"
    }
   ],
   "source": [
    "imputed_data"
   ]
  },
  {
   "cell_type": "code",
   "execution_count": null,
   "metadata": {},
   "outputs": [],
   "source": []
  }
 ],
 "metadata": {
  "interpreter": {
   "hash": "0aea4d3bd9f517439094973d7e036bbe588c23e6e36cf8d45d53b47a8a90b2b4"
  },
  "kernelspec": {
   "display_name": "Python 3.8.6 64-bit",
   "language": "python",
   "name": "python3"
  },
  "language_info": {
   "codemirror_mode": {
    "name": "ipython",
    "version": 3
   },
   "file_extension": ".py",
   "mimetype": "text/x-python",
   "name": "python",
   "nbconvert_exporter": "python",
   "pygments_lexer": "ipython3",
   "version": "3.8.6"
  },
  "orig_nbformat": 4
 },
 "nbformat": 4,
 "nbformat_minor": 2
}
